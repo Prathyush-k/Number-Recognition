{
 "cells": [
  {
   "cell_type": "code",
   "execution_count": 2,
   "metadata": {
    "scrolled": true
   },
   "outputs": [],
   "source": [
    "import numpy as np\n",
    "import tensorflow as tf\n",
    "from tensorflow.examples.tutorials.mnist import input_data\n",
    "from matplotlib import pyplot as plt"
   ]
  },
  {
   "cell_type": "code",
   "execution_count": 4,
   "metadata": {
    "scrolled": true
   },
   "outputs": [
    {
     "name": "stdout",
     "output_type": "stream",
     "text": [
      "Extracting /tmp/mnist_data/train-images-idx3-ubyte.gz\n",
      "Extracting /tmp/mnist_data/train-labels-idx1-ubyte.gz\n",
      "Extracting /tmp/mnist_data/t10k-images-idx3-ubyte.gz\n",
      "Extracting /tmp/mnist_data/t10k-labels-idx1-ubyte.gz\n"
     ]
    }
   ],
   "source": [
    "mnist = input_data.read_data_sets(\"/tmp/mnist_data/\",one_hot = True)"
   ]
  },
  {
   "cell_type": "code",
   "execution_count": 5,
   "metadata": {},
   "outputs": [],
   "source": [
    "nodes_hidden_layer1 = 500\n",
    "nodes_hidden_layer2 = 500\n",
    "nodes_hidden_layer3 = 500\n",
    "\n",
    "learning_rate = 0.001\n",
    "\n",
    "training_epochs=20\n",
    "n_input = 784\n",
    "n_classes = 10\n",
    "batch_size = 100\n",
    "\n",
    "X = tf.placeholder('float',[None,784])\n",
    "Y = tf.placeholder('float',[None,10])"
   ]
  },
  {
   "cell_type": "code",
   "execution_count": null,
   "metadata": {},
   "outputs": [],
   "source": []
  },
  {
   "cell_type": "code",
   "execution_count": 6,
   "metadata": {},
   "outputs": [],
   "source": [
    "def neural_network_model(x):\n",
    "    \n",
    "    weights = {\n",
    "    'h1': tf.Variable(tf.random_normal([n_input, nodes_hidden_layer1])),\n",
    "    'h2': tf.Variable(tf.random_normal([nodes_hidden_layer1, nodes_hidden_layer2])),\n",
    "    'h3': tf.Variable(tf.random_normal([nodes_hidden_layer2, nodes_hidden_layer3])),\n",
    "    'out': tf.Variable(tf.random_normal([nodes_hidden_layer3, n_classes]))\n",
    "    }\n",
    "    biases = {\n",
    "        'b1': tf.Variable(tf.random_normal([nodes_hidden_layer1])),\n",
    "        'b2': tf.Variable(tf.random_normal([nodes_hidden_layer2])),\n",
    "        'b3': tf.Variable(tf.random_normal([nodes_hidden_layer3])),\n",
    "        'out': tf.Variable(tf.random_normal([n_classes]))\n",
    "    }\n",
    "    \n",
    "    l1 = tf.matmul(x,weights['h1']) + biases['b1']\n",
    "    l1 = tf.nn.leaky_relu(l1)\n",
    "    \n",
    "    l2 = tf.matmul(l1,weights['h2']) + biases['b2']\n",
    "    l2 = tf.nn.leaky_relu(l2)\n",
    "    \n",
    "    l3 = tf.matmul(l2,weights['h3']) + biases['b3']\n",
    "    l3 = tf.nn.leaky_relu(l3)\n",
    "    \n",
    "    \n",
    "    output = tf.matmul(l3,weights['out']) + biases['out']\n",
    "   \n",
    "    \n",
    "    return output"
   ]
  },
  {
   "cell_type": "code",
   "execution_count": 7,
   "metadata": {
    "scrolled": true
   },
   "outputs": [],
   "source": [
    "def train_neural_netwrok(X):\n",
    "    display_step=1\n",
    "    \n",
    "    sn = 1000\n",
    "    amount = 9\n",
    "    lines = 3\n",
    "    columns = 3\n",
    "    image = np.zeros((amount, 28, 28))\n",
    "    number = np.zeros(amount)\n",
    "    label=[]\n",
    "    \n",
    "    logits = neural_network_model(X)\n",
    "\n",
    "    loss_op = tf.reduce_mean(tf.nn.softmax_cross_entropy_with_logits_v2(logits=logits, labels=Y))\n",
    "    optimizer = tf.train.AdamOptimizer(learning_rate=learning_rate)\n",
    "    train_op = optimizer.minimize(loss_op)\n",
    "\n",
    "\n",
    "    init = tf.global_variables_initializer()\n",
    "\n",
    "    with tf.Session() as sess:\n",
    "        sess.run(init)\n",
    "\n",
    "\n",
    "        for epoch in range(training_epochs):\n",
    "            avg_cost = 0.\n",
    "            total_batch = int(mnist.train.num_examples/batch_size)\n",
    "            for i in range(total_batch):\n",
    "                batch_x, batch_y = mnist.train.next_batch(batch_size)\n",
    "\n",
    "                _, c = sess.run([train_op, loss_op], feed_dict={X: batch_x,Y: batch_y})\n",
    "\n",
    "                avg_cost += c / total_batch\n",
    "\n",
    "            if epoch % display_step == 0:\n",
    "                print(\"Epoch:\", (epoch+1), \"cost=\",(avg_cost))\n",
    "        print(\"Optimization Finished!\")\n",
    "\n",
    "        \n",
    "        pred = tf.nn.softmax(logits)  \n",
    "        correct_prediction = tf.equal(tf.argmax(pred, 1), tf.argmax(Y, 1))\n",
    "        \n",
    "        accuracy = tf.reduce_mean(tf.cast(correct_prediction, \"float\"))\n",
    "        print(\"Accuracy:\", accuracy.eval({X: mnist.test.images, Y: mnist.test.labels}))\n",
    "        \n",
    "        prediction=tf.argmax(pred,1)\n",
    "        \n",
    "       \n",
    "        for i in range(amount):\n",
    "            image[i] = mnist.test.images[sn + i].reshape(28, 28)\n",
    "            number[i] = int(prediction.eval({X: mnist.test.images, Y: mnist.test.labels})[sn+i])\n",
    "            \n",
    "\n",
    "        fig = plt.figure()\n",
    "\n",
    "        for i in range(amount):\n",
    "\n",
    "            ax = fig.add_subplot(lines, columns, 1 + i)\n",
    "            plt.imshow(image[i], cmap='binary')\n",
    "\n",
    "        print(number)\n",
    "        plt.show()    \n"
   ]
  },
  {
   "cell_type": "code",
   "execution_count": 8,
   "metadata": {},
   "outputs": [
    {
     "name": "stdout",
     "output_type": "stream",
     "text": [
      "Epoch: 1 cost= 3228.6669683005557\n",
      "Epoch: 2 cost= 833.5908220950053\n",
      "Epoch: 3 cost= 475.7349719515719\n",
      "Epoch: 4 cost= 288.63657923947676\n",
      "Epoch: 5 cost= 193.53078813292746\n",
      "Epoch: 6 cost= 135.71358606728634\n",
      "Epoch: 7 cost= 100.56387530856436\n",
      "Epoch: 8 cost= 74.66745074421178\n",
      "Epoch: 9 cost= 63.98109910849073\n",
      "Epoch: 10 cost= 50.484822467109154\n",
      "Epoch: 11 cost= 55.19446724257052\n",
      "Epoch: 12 cost= 41.31292935215775\n",
      "Epoch: 13 cost= 40.167542945715475\n",
      "Epoch: 14 cost= 34.8715445838733\n",
      "Epoch: 15 cost= 29.585528033755054\n",
      "Epoch: 16 cost= 25.15091920209879\n",
      "Epoch: 17 cost= 33.38462271647019\n",
      "Epoch: 18 cost= 32.074619821646536\n",
      "Epoch: 19 cost= 30.365648853608693\n",
      "Epoch: 20 cost= 24.999858787601664\n",
      "Optimization Finished!\n",
      "Accuracy: 0.963\n",
      "[9. 0. 2. 5. 1. 9. 7. 8. 1.]\n"
     ]
    },
    {
     "data": {
      "image/png": "[encoded data removed]",
      "text/plain": [
       "<Figure size 432x288 with 9 Axes>"
      ]
     },
     "metadata": {},
     "output_type": "display_data"
    }
   ],
   "source": [
    "train_neural_netwrok(X)"
   ]
  },
  {
   "cell_type": "code",
   "execution_count": null,
   "metadata": {},
   "outputs": [],
   "source": []
  },
  {
   "cell_type": "code",
   "execution_count": null,
   "metadata": {},
   "outputs": [],
   "source": []
  },
  {
   "cell_type": "code",
   "execution_count": null,
   "metadata": {},
   "outputs": [],
   "source": []
  }
 ],
 "metadata": {
  "kernelspec": {
   "display_name": "Python 3",
   "language": "python",
   "name": "python3"
  },
  "language_info": {
   "codemirror_mode": {
    "name": "ipython",
    "version": 3
   },
   "file_extension": ".py",
   "mimetype": "text/x-python",
   "name": "python",
   "nbconvert_exporter": "python",
   "pygments_lexer": "ipython3",
   "version": "3.6.5"
  }
 },
 "nbformat": 4,
 "nbformat_minor": 2
}
